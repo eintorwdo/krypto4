{
  "nbformat": 4,
  "nbformat_minor": 0,
  "metadata": {
    "kernelspec": {
      "display_name": "Python 3",
      "language": "python",
      "name": "python3"
    },
    "language_info": {
      "codemirror_mode": {
        "name": "ipython",
        "version": 3
      },
      "file_extension": ".py",
      "mimetype": "text/x-python",
      "name": "python",
      "nbconvert_exporter": "python",
      "pygments_lexer": "ipython3",
      "version": "3.6.8"
    },
    "colab": {
      "name": "Lista4.ipynb",
      "provenance": [],
      "collapsed_sections": []
    }
  },
  "cells": [
    {
      "cell_type": "markdown",
      "metadata": {
        "id": "au3AHQjTOqYu"
      },
      "source": [
        "# Lista 4 (8 pkt.) Termin: 3.12.2020r."
      ]
    },
    {
      "cell_type": "code",
      "metadata": {
        "id": "vVOEVgIHOqYv"
      },
      "source": [
        "import numpy as np\n",
        "from collections import deque"
      ],
      "execution_count": 1,
      "outputs": []
    },
    {
      "cell_type": "markdown",
      "metadata": {
        "id": "FF-nCWfVOqYv"
      },
      "source": [
        "## Zadanie 1 (1 pkt.)"
      ]
    },
    {
      "cell_type": "markdown",
      "metadata": {
        "id": "FhD-46KCOqYv"
      },
      "source": [
        "Napisz funkcję $\\textit{hex2bin(hex_str,pad)}$, zamieniającą string z liczbą zapisaną heksadecymalnie na zapisaną binarnie z użyciem $\\textit{pad}$ cyfr."
      ]
    },
    {
      "cell_type": "code",
      "metadata": {
        "id": "Fy3hQWbAOqYv"
      },
      "source": [
        "def hex2bin(hex_str,pad=0):\n",
        "    return bin(int(hex_str, 16))[2:].zfill(pad)"
      ],
      "execution_count": 2,
      "outputs": []
    },
    {
      "cell_type": "code",
      "metadata": {
        "colab": {
          "base_uri": "https://localhost:8080/"
        },
        "id": "5khHyLVCOqYv",
        "outputId": "42c0f973-f9fe-4319-ea31-eda294e04cf6"
      },
      "source": [
        "print(hex2bin('a',2)=='1010')\n",
        "print(hex2bin('a',5)=='01010')\n",
        "print(hex2bin('1a',2)=='11010')\n",
        "print(hex2bin('1a',7)=='0011010')"
      ],
      "execution_count": 3,
      "outputs": [
        {
          "output_type": "stream",
          "text": [
            "True\n",
            "True\n",
            "True\n",
            "True\n"
          ],
          "name": "stdout"
        }
      ]
    },
    {
      "cell_type": "markdown",
      "metadata": {
        "id": "QWwYQLf3OqYw"
      },
      "source": [
        "Napisz funkcję $\\textit{prepare_state(msg)}$, która zamienie ciag 128 bitów na tablicę 4x4 zawierającą bajty (tzw. stan). Każdy bajt składa się z 8 bitów wziętych kolejno z $msg$. Bajty należy zapisac jako stringi składające się z dwóch cyfr w szystemie szesnastkowym.\n",
        "\n",
        "$$1101...1\\longrightarrow \\left[\\begin{array}{cccc}\n",
        "b_{00}&b_{01}&b_{02}&b_{03}\\\\\n",
        "b_{10}&b_{11}&b_{12}&b_{13}\\\\\n",
        "b_{20}&b_{21}&b_{22}&b_{23}\\\\\n",
        "b_{30}&b_{31}&b_{32}&b_{33}\\\\\n",
        "\\end{array}\\right]$$"
      ]
    },
    {
      "cell_type": "code",
      "metadata": {
        "id": "uaneGopYOqYw"
      },
      "source": [
        "def prepare_state(msg):\n",
        "    out = np.empty((4,4))\n",
        "    out = out.tolist()\n",
        "    j = 0\n",
        "    k = 0\n",
        "    for i in range(0,128, 8):\n",
        "      out[j][k] = hex(int(msg[i:i+8], 2))[2:].zfill(2)\n",
        "      k = k + 1\n",
        "      if (k==4):\n",
        "        k = 0\n",
        "        j = j + 1\n",
        "    return(out)\n"
      ],
      "execution_count": 4,
      "outputs": []
    },
    {
      "cell_type": "code",
      "metadata": {
        "colab": {
          "base_uri": "https://localhost:8080/"
        },
        "id": "n6FLIbPcOqYw",
        "outputId": "a493f394-cb77-42b0-abec-2b402c87111c"
      },
      "source": [
        "msg='01000110000010100000101110100010110111111100000001111011000100010010001111010010010011011101110011010011010000000100001100001001'\n",
        "print(prepare_state(msg)==\n",
        "     [['46', '0a', '0b', 'a2'],\n",
        "      ['df', 'c0', '7b', '11'],\n",
        "      ['23', 'd2', '4d', 'dc'],\n",
        "      ['d3', '40', '43', '09']])"
      ],
      "execution_count": 5,
      "outputs": [
        {
          "output_type": "stream",
          "text": [
            "True\n"
          ],
          "name": "stdout"
        }
      ]
    },
    {
      "cell_type": "markdown",
      "metadata": {
        "id": "AxEmBJWnOqYw"
      },
      "source": [
        "## Zadanie 2  (1 pkt.)"
      ]
    },
    {
      "cell_type": "markdown",
      "metadata": {
        "id": "Pr3FPE1oOqYw"
      },
      "source": [
        "Napisz funkcję $\\textit{SubBytes(state)}$, która w zadanym stanie $state$ zamienia bajty zgodnie z podanym SBox-em. Dla danego bajtu reprezentowanego przez dwie cyfry szesnastkowe, pierwsza z nich określa wiersz a druga kolumnę w SBox-ie. Na miejscu o tych współrzędnych znajdują się dwie cyfry rerezentujące bajt, którym należy zastąpić pierwotny bajt w stanie."
      ]
    },
    {
      "cell_type": "code",
      "metadata": {
        "id": "EIAzCtNXOqYw"
      },
      "source": [
        "def SubBytes(state):\n",
        "    for i in range(len(state)):\n",
        "      for j in range(len(state[i])):\n",
        "        state[i][j] = SBox[int(state[i][j][:1], 16)][int(state[i][j][1:], 16)]\n",
        "    return state"
      ],
      "execution_count": 6,
      "outputs": []
    },
    {
      "cell_type": "code",
      "metadata": {
        "id": "uRrlunGBOqYw"
      },
      "source": [
        "SBox=[['63', '7c', '77', '7b', 'f2', '6b', '6f', 'c5', '30', '01', '67', '2b', 'fe', 'd7', 'ab', '76'],\n",
        "      ['ca', '82', 'c9', '7d', 'fa', '59', '47', 'f0', 'ad', 'd4', 'a2', 'af', '9c', 'a4', '72', 'c0'],\n",
        "      ['b7', 'fd', '93', '26', '36', '3f', 'f7', 'cc', '34', 'a5', 'e5', 'f1', '71', 'd8', '31', '15'],\n",
        "      ['04', 'c7', '23', 'c3', '18', '96', '05', '9a', '07', '12', '80', 'e2', 'eb', '27', 'b2', '75'],\n",
        "      ['09', '83', '2c', '1a', '1b', '6e', '5a', 'a0', '52', '3b', 'd6', 'b3', '29', 'e3', '2f', '84'],\n",
        "      ['53', 'd1', '00', 'ed', '20', 'fc', 'b1', '5b', '6a', 'cb', 'be', '39', '4a', '4c', '58', 'cf'],\n",
        "      ['d0', 'ef', 'aa', 'fb', '43', '4d', '33', '85', '45', 'f9', '02', '7f', '50', '3c', '9f', 'a8'],\n",
        "      ['51', 'a3', '40', '8f', '92', '9d', '38', 'f5', 'bc', 'b6', 'da', '21', '10', 'ff', 'f3', 'd2'],\n",
        "      ['cd', '0c', '13', 'ec', '5f', '97', '44', '17', 'c4', 'a7', '7e', '3d', '64', '5d', '19', '73'],\n",
        "      ['60', '81', '4f', 'dc', '22', '2a', '90', '88', '46', 'ee', 'b8', '14', 'de', '5e', '0b', 'db'],\n",
        "      ['e0', '32', '3a', '0a', '49', '06', '24', '5c', 'c2', 'd3', 'ac', '62', '91', '95', 'e4', '79'],\n",
        "      ['e7', 'c8', '37', '6d', '8d', 'd5', '4e', 'a9', '6c', '56', 'f4', 'ea', '65', '7a', 'ae', '08'],\n",
        "      ['ba', '78', '25', '2e', '1c', 'a6', 'b4', 'c6', 'e8', 'dd', '74', '1f', '4b', 'bd', '8b', '8a'],\n",
        "      ['70', '3e', 'b5', '66', '48', '03', 'f6', '0e', '61', '35', '57', 'b9', '86', 'c1', '1d', '9e'],\n",
        "      ['e1', 'f8', '98', '11', '69', 'd9', '8e', '94', '9b', '1e', '87', 'e9', 'ce', '55', '28', 'df'],\n",
        "      ['8c', 'a1', '89', '0d', 'bf', 'e6', '42', '68', '41', '99', '2d', '0f', 'b0', '54', 'bb', '16']]"
      ],
      "execution_count": 7,
      "outputs": []
    },
    {
      "cell_type": "code",
      "metadata": {
        "colab": {
          "base_uri": "https://localhost:8080/"
        },
        "id": "EQxa7ipEOqYw",
        "outputId": "b09d3616-4693-4eb8-acbc-b371f957b513"
      },
      "source": [
        "print(SubBytes([['46', '0a', '0b', 'a2'],\n",
        "                ['df', 'c0', '7b', '11'],\n",
        "                ['23', 'd2', '4d', 'dc'],\n",
        "                ['d3', '40', '43', '09']])==\n",
        "              [['5a', '67', '2b', '3a'],\n",
        "               ['9e', 'ba', '21', '82'],\n",
        "               ['26', 'b5', 'e3', '86'],\n",
        "               ['66', '09', '1a', '01']])"
      ],
      "execution_count": 8,
      "outputs": [
        {
          "output_type": "stream",
          "text": [
            "True\n"
          ],
          "name": "stdout"
        }
      ]
    },
    {
      "cell_type": "markdown",
      "metadata": {
        "id": "W_yzCo2rOqYw"
      },
      "source": [
        "## Zadanie 3  (1 pkt.)"
      ]
    },
    {
      "cell_type": "markdown",
      "metadata": {
        "id": "bu6b6JZXOqYw"
      },
      "source": [
        "Napisz funkcję $\\textit{ShiftRows(state)}$, która w zadanym stanie przesuwa wiersze: drugi o 1, trzeci o 2, czwarty o 3 w lewo."
      ]
    },
    {
      "cell_type": "code",
      "metadata": {
        "id": "zyAQkWy7OqYw"
      },
      "source": [
        "def ShiftRows(state):\n",
        "    for i in range(len(state)):\n",
        "      dq = deque(state[i])\n",
        "      dq.rotate(-1*i)\n",
        "      state[i] = list(dq)\n",
        "    return state"
      ],
      "execution_count": 9,
      "outputs": []
    },
    {
      "cell_type": "code",
      "metadata": {
        "id": "90-L2NtKOqYw",
        "colab": {
          "base_uri": "https://localhost:8080/"
        },
        "outputId": "ba08e952-557e-46ca-85b0-36630638e8cb"
      },
      "source": [
        "print(ShiftRows([['5a', '67', '2b', '3a'],\n",
        "                 ['9e', 'ba', '21', '82'],\n",
        "                 ['26', 'b5', 'e3', '86'],\n",
        "                 ['66', '09', '1a', '01']])==\n",
        "                [['5a', '67', '2b', '3a'],\n",
        "                 ['ba', '21', '82', '9e'],\n",
        "                 ['e3', '86', '26', 'b5'],\n",
        "                 ['01', '66', '09', '1a']])"
      ],
      "execution_count": 10,
      "outputs": [
        {
          "output_type": "stream",
          "text": [
            "True\n"
          ],
          "name": "stdout"
        }
      ]
    },
    {
      "cell_type": "markdown",
      "metadata": {
        "id": "sJHe8lsEOqYw"
      },
      "source": [
        "## Zadanie 4  (1 pkt.)"
      ]
    },
    {
      "cell_type": "markdown",
      "metadata": {
        "id": "XqXwyhVhOqYw"
      },
      "source": [
        "Napisz funkcję $\\textit{MixColumns(state)}$, która każdą kolumnę z zadanego stanu przemnaża przez macierz $A$, przy czym mnożenie i dodawanie elementów macierzy oraz kolumny są operacjami w ciele Galois, użyj funkcji z poprzedniej listy: $\\textit{multiply_GF}$, $\\textit{add_GF}$. Elementy macierzy $A$ to bajty zapisane jako dwie cyfry szesnastkowe, interpretujemy je jako elementy ciała $GF(2^8)$."
      ]
    },
    {
      "cell_type": "code",
      "metadata": {
        "id": "gstOMYyxOqYw"
      },
      "source": [
        "def add_GF(p,q):\n",
        "    size = max(len(p), len(q))\n",
        "    p = p.zfill(size)\n",
        "    q = q.zfill(size)\n",
        "    out = ''\n",
        "    for i in range(size):\n",
        "      out = out + str(((int(p[i]) + int(q[i])) % 2))\n",
        "    out = out.lstrip('0')\n",
        "    if (len(out) == 0):\n",
        "      out = '0'\n",
        "    return out\n",
        "\n",
        "def strToIntArr(str):\n",
        "    arr = []\n",
        "    for el in str:\n",
        "      arr.append(int(el))\n",
        "    return arr\n",
        "\n",
        "def arrToString(arr):\n",
        "    out = ''.join([str(el) for el in arr])\n",
        "    return out\n",
        "\n",
        "def multiply(p,q):\n",
        "    p_len = len(p)\n",
        "    q_len = len(q)\n",
        "\n",
        "    size = max(p_len, q_len)\n",
        "    p = strToIntArr(p[::-1])\n",
        "    q = strToIntArr(q[::-1])\n",
        "    result = [0] * (p_len + q_len)\n",
        "    for i in range(len(p)):\n",
        "      p_el = p[i]\n",
        "      for j in range(len(q)):\n",
        "        q_el = q[j]\n",
        "        result[i+j] = (result[i + j] + p_el * q_el) % 2\n",
        "    out = arrToString(result).rstrip('0')[::-1]\n",
        "    if (len(out) == 0):\n",
        "      out = '0'\n",
        "    return out\n",
        "\n",
        "def divide(p,q):\n",
        "    size = len(p)\n",
        "    divider_len = len(q)\n",
        "    result = [0] * (size - divider_len + 1)\n",
        "    remainder = strToIntArr(p[::-1])\n",
        "    divider = strToIntArr(q.zfill(size)[::-1])\n",
        "\n",
        "    while (len(remainder) >= divider_len):\n",
        "      # print(remainder, divider)\n",
        "      index = len(remainder) - len(q)\n",
        "      result[index] = 1\n",
        "      multiplier = [0] * len(result)\n",
        "      multiplier[index] = 1\n",
        "      multRes = multiply(arrToString(multiplier)[::-1], arrToString(q))\n",
        "      sum = add_GF(arrToString(remainder)[::-1], multRes)\n",
        "      remainder = strToIntArr(sum[::-1])\n",
        "      if (len(remainder) == 0 or remainder == [0]):\n",
        "        remainder = '0'\n",
        "        break\n",
        "    return (arrToString(result)[::-1], arrToString(remainder)[::-1])\n",
        "\n",
        "def multiply_GF(p,q):\n",
        "    divider = '100011011'\n",
        "    mulRes = multiply(p, q)\n",
        "    divRes = divide(mulRes, divider)\n",
        "    return divRes[1]\n",
        "\n",
        "def getColumn(matrix, col):\n",
        "    return [matrix[i][col] for i in range(len(matrix))]\n",
        "\n",
        "def MixColumns(state):\n",
        "    out = [None] * 4\n",
        "    for i in range(4):\n",
        "      out[i] = [None] * 4\n",
        "\n",
        "    for k in range(len(state[0])):\n",
        "      col = getColumn(state, k)\n",
        "      v = ['0'] * 4\n",
        "      for i in range(len(A)):\n",
        "        for j in range(len(A[0])):\n",
        "          v[i] = add_GF(v[i], multiply_GF(hex2bin(A[i][j]), hex2bin(col[j])))\n",
        "      for l in range(len(v)):\n",
        "        v[l] = hex(int(v[l], 2))[2:].zfill(2)\n",
        "      out[k] = v\n",
        "\n",
        "    out = np.array(out).transpose()\n",
        "    # print(out)\n",
        "    return out"
      ],
      "execution_count": 11,
      "outputs": []
    },
    {
      "cell_type": "code",
      "metadata": {
        "id": "cyRIeO2wOqYw"
      },
      "source": [
        "A=[['02','03','01','01'],\n",
        "   ['01','02','03','01'],\n",
        "   ['01','01','02','03'],\n",
        "   ['03','01','01','02']]"
      ],
      "execution_count": 12,
      "outputs": []
    },
    {
      "cell_type": "code",
      "metadata": {
        "colab": {
          "base_uri": "https://localhost:8080/"
        },
        "id": "AQnZiYF2OqYw",
        "outputId": "d15d1d92-7ac1-46e7-e45d-68a39b70fad4"
      },
      "source": [
        "print(MixColumns([['5a', '67', '2b', '3a'],\n",
        "                  ['ba', '21', '82', '9e'],\n",
        "                  ['e3', '86', '26', 'b5'],\n",
        "                  ['01', '66', '09', '1a']])==\n",
        "                 [['83', '4d', 'e4', '62'],\n",
        "                  ['0a', 'd2', '57', 'c3'],\n",
        "                  ['3e', 'fb', 'fe', 'fb'],\n",
        "                  ['b5', 'c2', 'cb', '51']])"
      ],
      "execution_count": 13,
      "outputs": [
        {
          "output_type": "stream",
          "text": [
            "[[ True  True  True  True]\n",
            " [ True  True  True  True]\n",
            " [ True  True  True  True]\n",
            " [ True  True  True  True]]\n"
          ],
          "name": "stdout"
        }
      ]
    },
    {
      "cell_type": "markdown",
      "metadata": {
        "id": "UPsJxOwBOqYx"
      },
      "source": [
        "## Zadanie 5  (2 pkt.)"
      ]
    },
    {
      "cell_type": "markdown",
      "metadata": {
        "id": "8DkKD4gNOqYx"
      },
      "source": [
        "Napisz funkcję $\\textit{KeyExpansion(key)}$, która z podanego klucza generuje podklucze zapisane w formie tablicy 4x4 za pomocą bajótw w systemie szesnastkowym, zgodnie z algorytmem: https://en.wikipedia.org/wiki/AES_key_schedule , ograniczamy się tylko do przypadku klucza 128-bitowego. Zmienna $\\textit{rci}$ zawiera listę stałych, potrzebnych w algorytmie. W powyższym artykule jest pokazany sposób generowania tych stałych."
      ]
    },
    {
      "cell_type": "code",
      "metadata": {
        "id": "YOTVrl85OqYx"
      },
      "source": [
        "def xor(last, k):\n",
        "    out = ['00'] * len(k)\n",
        "    for i in range(len(k)):\n",
        "      out[i] = hex(int(last[i], 16) ^ int(k[i], 16))[2:].zfill(2)\n",
        "    return out\n",
        "\n",
        "def rotWord(a):\n",
        "    dq = deque(a)\n",
        "    dq.rotate(-1)\n",
        "    return list(dq)\n",
        "\n",
        "def subWord(a):\n",
        "    out = [SBox[int(a[i][:1], 16)][int(a[i][1:], 16)] for i in range(len(a))]\n",
        "    return out\n",
        "\n",
        "def byteToHexArr(arr):\n",
        "    for i in range(len(arr)):\n",
        "      arr[i] = hex(int(arr[i], 2))[2:].zfill(2)\n",
        "    return arr\n",
        "\n",
        "def KeyExpansion(key):\n",
        "    W = []\n",
        "    K = [key[i:i+32] for i in range(0, len(key), 32)]\n",
        "    \n",
        "    for i in range(len(K)):\n",
        "      K[i] = [K[i][j:j+8] for j in range(0, len(K[i]), 8)]\n",
        "\n",
        "    W.append([byteToHexArr(K[i]) for i in range(len(K))])\n",
        "\n",
        "    for i in range(10):\n",
        "      last = K[3].copy()\n",
        "      last = rotWord(last)\n",
        "      last = subWord(last)\n",
        "      rcon = [rci[i], '00', '00', '00']\n",
        "      last = xor(last, rcon)\n",
        "      for j in range(len(K)):\n",
        "        K[j] = xor(last, K[j])\n",
        "        last = K[j]\n",
        "      # print(K)\n",
        "      W.append(K.copy())\n",
        "    return W"
      ],
      "execution_count": 14,
      "outputs": []
    },
    {
      "cell_type": "code",
      "metadata": {
        "id": "XdXL9VeWOqYx"
      },
      "source": [
        "rci = ['01', '02', '04', '08', '10', '20', '40', '80', '1b', '36']"
      ],
      "execution_count": 15,
      "outputs": []
    },
    {
      "cell_type": "code",
      "metadata": {
        "id": "os79TEqoOqYx",
        "colab": {
          "base_uri": "https://localhost:8080/"
        },
        "outputId": "c70a3f87-bdc0-4155-8156-86193ebca70b"
      },
      "source": [
        "key='10111101101101001100100101100001111111111100001110000101100001110111010001010001101011111111111000011100111010011000101011100110'\n",
        "print(KeyExpansion(key)==\n",
        "[[['bd', 'b4', 'c9', '61'],\n",
        "  ['ff', 'c3', '85', '87'],\n",
        "  ['74', '51', 'af', 'fe'],\n",
        "  ['1c', 'e9', '8a', 'e6']],\n",
        " [['a2', 'ca', '47', 'fd'],\n",
        "  ['5d', '09', 'c2', '7a'],\n",
        "  ['29', '58', '6d', '84'],\n",
        "  ['35', 'b1', 'e7', '62']],\n",
        " [['68', '5e', 'ed', '6b'],\n",
        "  ['35', '57', '2f', '11'],\n",
        "  ['1c', '0f', '42', '95'],\n",
        "  ['29', 'be', 'a5', 'f7']],\n",
        " [['c2', '58', '85', 'ce'],\n",
        "  ['f7', '0f', 'aa', 'df'],\n",
        "  ['eb', '00', 'e8', '4a'],\n",
        "  ['c2', 'be', '4d', 'bd']],\n",
        " [['64', 'bb', 'ff', 'eb'],\n",
        "  ['93', 'b4', '55', '34'],\n",
        "  ['78', 'b4', 'bd', '7e'],\n",
        "  ['ba', '0a', 'f0', 'c3']],\n",
        " [['13', '37', 'd1', '1f'],\n",
        "  ['80', '83', '84', '2b'],\n",
        "  ['f8', '37', '39', '55'],\n",
        "  ['42', '3d', 'c9', '96']],\n",
        " [['14', 'ea', '41', '33'],\n",
        "  ['94', '69', 'c5', '18'],\n",
        "  ['6c', '5e', 'fc', '4d'],\n",
        "  ['2e', '63', '35', 'db']],\n",
        " [['af', '7c', 'f8', '02'],\n",
        "  ['3b', '15', '3d', '1a'],\n",
        "  ['57', '4b', 'c1', '57'],\n",
        "  ['79', '28', 'f4', '8c']],\n",
        " [['1b', 'c3', '9c', 'b4'],\n",
        "  ['20', 'd6', 'a1', 'ae'],\n",
        "  ['77', '9d', '60', 'f9'],\n",
        "  ['0e', 'b5', '94', '75']],\n",
        " [['d5', 'e1', '01', '1f'],\n",
        "  ['f5', '37', 'a0', 'b1'],\n",
        "  ['82', 'aa', 'c0', '48'],\n",
        "  ['8c', '1f', '54', '3d']],\n",
        " [['23', 'c1', '26', '7b'],\n",
        "  ['d6', 'f6', '86', 'ca'],\n",
        "  ['54', '5c', '46', '82'],\n",
        "  ['d8', '43', '12', 'bf']]])"
      ],
      "execution_count": 16,
      "outputs": [
        {
          "output_type": "stream",
          "text": [
            "True\n"
          ],
          "name": "stdout"
        }
      ]
    },
    {
      "cell_type": "markdown",
      "metadata": {
        "id": "-lnj9osYOqYx"
      },
      "source": [
        "## Zadanie 6  (1 pkt.)"
      ]
    },
    {
      "cell_type": "markdown",
      "metadata": {
        "id": "FiYz6UZTOqYx"
      },
      "source": [
        "Napisz funkcję $\\textit{AddRoundKey(state,subkey)}$, która do stanu dodaje podklucz. Zarówno stan jak i podklucz są tablicamie 4x4 zawierającymi bajty. Bajty traktujemy jako ciągi bitów i dodajemy za pomocą alternatywy wykluczającej, tablice tych bajtów dodajemy jak macierze, element po elemencie.\n",
        "\n",
        "$$\\left[\\begin{array}{cccc}\n",
        "b_{00}&b_{01}&b_{02}&b_{03}\\\\\n",
        "b_{10}&b_{11}&b_{12}&b_{13}\\\\\n",
        "b_{20}&b_{21}&b_{22}&b_{23}\\\\\n",
        "b_{30}&b_{31}&b_{32}&b_{33}\\\\\n",
        "\\end{array}\\right]+\\left[\\begin{array}{cccc}\n",
        "k_{00}&k_{01}&k_{02}&k_{03}\\\\\n",
        "k_{10}&k_{11}&k_{12}&k_{13}\\\\\n",
        "k_{20}&k_{21}&k_{22}&k_{23}\\\\\n",
        "k_{30}&k_{31}&k_{32}&k_{33}\\\\\n",
        "\\end{array}\\right]=\\left[\\begin{array}{cccc}\n",
        "b_{00}\\oplus k_{00}&b_{01}\\oplus k_{01}&b_{02}\\oplus k_{02}&b_{03}\\oplus k_{03}\\\\\n",
        "b_{10}\\oplus k_{10}&b_{11}\\oplus k_{11}&b_{12}\\oplus k_{12}&b_{13}\\oplus k_{13}\\\\\n",
        "b_{20}\\oplus k_{20}&b_{21}\\oplus k_{21}&b_{22}\\oplus k_{22}&b_{23}\\oplus k_{23}\\\\\n",
        "b_{30}\\oplus k_{30}&b_{31}\\oplus k_{31}&b_{32}\\oplus k_{32}&b_{33}\\oplus k_{33}\\\\\n",
        "\\end{array}\\right]$$"
      ]
    },
    {
      "cell_type": "code",
      "metadata": {
        "id": "gFTuTcj2OqYx"
      },
      "source": [
        "def AddRoundKey(state,subkey):\n",
        "    for i in range(len(state)):\n",
        "      for j in range(len(state[i])):\n",
        "        state[i][j] = hex(int(state[i][j], 16) ^ int(subkey[i][j], 16))[2:].zfill(2)\n",
        "    return state"
      ],
      "execution_count": 17,
      "outputs": []
    },
    {
      "cell_type": "code",
      "metadata": {
        "id": "hJkkA_TIOqYx",
        "colab": {
          "base_uri": "https://localhost:8080/"
        },
        "outputId": "f512f8ee-4537-4ba6-c8fd-98d80db1d7ce"
      },
      "source": [
        "print(AddRoundKey([['83', '4d', 'e4', '62'],\n",
        "                   ['0a', 'd2', '57', 'c3'],\n",
        "                   ['3e', 'fb', 'fe', 'fb'],\n",
        "                   ['b5', 'c2', 'cb', '51']],\n",
        "                  [['23', 'c1', '26', '7b'],\n",
        "                   ['d6', 'f6', '86', 'ca'],\n",
        "                   ['54', '5c', '46', '82'],\n",
        "                   ['d8', '43', '12', 'bf']])==\n",
        "                  [['a0', '8c', 'c2', '19'],\n",
        "                   ['dc', '24', 'd1', '09'],\n",
        "                   ['6a', 'a7', 'b8', '79'],\n",
        "                   ['6d', '81', 'd9', 'ee']])"
      ],
      "execution_count": 18,
      "outputs": [
        {
          "output_type": "stream",
          "text": [
            "True\n"
          ],
          "name": "stdout"
        }
      ]
    },
    {
      "cell_type": "markdown",
      "metadata": {
        "id": "il-lnVpfOqYx"
      },
      "source": [
        "## Zadanie 7  (1 pkt.)"
      ]
    },
    {
      "cell_type": "markdown",
      "metadata": {
        "id": "2vYJCAkiOqYx"
      },
      "source": [
        "Napisz funkcję $\\textit{AES(msg,subkeys)}$, która szyfruje wiadomość $\\textit{msg}$ za pomocą podkluczy $\\textit{subkeys}$. Użyj poprzednich funkcji zgodnie ze schematem: https://en.wikipedia.org/wiki/Advanced_Encryption_Standard#High-level_description_of_the_algorithm"
      ]
    },
    {
      "cell_type": "code",
      "metadata": {
        "id": "VSFrzm1QOqYx"
      },
      "source": [
        "def AES(msg,subkeys):\n",
        "    state = prepare_state(msg)\n",
        "    state = AddRoundKey(state, subkeys[0])\n",
        "    \n",
        "    for i in range(1, 11):\n",
        "      if (i < 10):\n",
        "        state = SubBytes(state)\n",
        "        state = ShiftRows(state)\n",
        "        state = MixColumns(state)\n",
        "        state = AddRoundKey(state, subkeys[i])\n",
        "      else:\n",
        "        state = SubBytes(state)\n",
        "        state = ShiftRows(state)\n",
        "        state = AddRoundKey(state, subkeys[i])\n",
        "\n",
        "    out = ''\n",
        "    for i in range(len(state)):\n",
        "      for j in range(len(state[i])):\n",
        "        out = out + bin(int(state[i][j], 16))[2:].zfill(8)\n",
        "    return out"
      ],
      "execution_count": 19,
      "outputs": []
    },
    {
      "cell_type": "code",
      "metadata": {
        "id": "beSmglgVOqYx",
        "colab": {
          "base_uri": "https://localhost:8080/"
        },
        "outputId": "495feccc-7136-470d-a0ab-18a746f90974"
      },
      "source": [
        "#msg i key to zmienne z poprzednich zadań\n",
        "subkeys=KeyExpansion(key)\n",
        "print(AES(msg,subkeys)=='10011011111001010110001100111101110001011011101000011101001000001010111100001110011000010000111101111000010101011111010000001101')"
      ],
      "execution_count": 20,
      "outputs": [
        {
          "output_type": "stream",
          "text": [
            "True\n"
          ],
          "name": "stdout"
        }
      ]
    }
  ]
}